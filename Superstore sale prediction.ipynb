{
 "cells": [
  {
   "cell_type": "markdown",
   "id": "ca980cdb",
   "metadata": {
    "_cell_guid": "b1076dfc-b9ad-4769-8c92-a6c4dae69d19",
    "_uuid": "8f2839f25d086af736a60e9eeb907d3b93b6e0e5",
    "papermill": {
     "duration": 0.009162,
     "end_time": "2022-11-06T13:26:44.049097",
     "exception": false,
     "start_time": "2022-11-06T13:26:44.039935",
     "status": "completed"
    },
    "tags": []
   },
   "source": [
    "## Import Libraries"
   ]
  },
  {
   "cell_type": "code",
   "execution_count": 1,
   "id": "ad4a2ea5",
   "metadata": {
    "execution": {
     "iopub.execute_input": "2022-11-06T13:26:44.081332Z",
     "iopub.status.busy": "2022-11-06T13:26:44.080784Z",
     "iopub.status.idle": "2022-11-06T13:26:45.466267Z",
     "shell.execute_reply": "2022-11-06T13:26:45.465092Z"
    },
    "papermill": {
     "duration": 1.397109,
     "end_time": "2022-11-06T13:26:45.469272",
     "exception": false,
     "start_time": "2022-11-06T13:26:44.072163",
     "status": "completed"
    },
    "tags": []
   },
   "outputs": [],
   "source": [
    "import pandas as pd\n",
    "import numpy as np\n",
    "import seaborn as sns\n",
    "import matplotlib.pyplot as plt\n",
    "from sklearn.model_selection import train_test_split\n",
    "from sklearn.metrics import mean_absolute_error\n",
    "from sklearn.linear_model import Ridge, LinearRegression\n",
    "from sklearn.pipeline import make_pipeline\n",
    "from category_encoders import OneHotEncoder"
   ]
  },
  {
   "cell_type": "markdown",
   "id": "fdc7805c",
   "metadata": {
    "papermill": {
     "duration": 0.006787,
     "end_time": "2022-11-06T13:26:45.483217",
     "exception": false,
     "start_time": "2022-11-06T13:26:45.476430",
     "status": "completed"
    },
    "tags": []
   },
   "source": [
    "## Import Data"
   ]
  },
  {
   "cell_type": "code",
   "execution_count": 2,
   "id": "1135f8e7",
   "metadata": {
    "execution": {
     "iopub.execute_input": "2022-11-06T13:26:45.498639Z",
     "iopub.status.busy": "2022-11-06T13:26:45.498232Z",
     "iopub.status.idle": "2022-11-06T13:26:45.505970Z",
     "shell.execute_reply": "2022-11-06T13:26:45.505186Z"
    },
    "papermill": {
     "duration": 0.017907,
     "end_time": "2022-11-06T13:26:45.508018",
     "exception": false,
     "start_time": "2022-11-06T13:26:45.490111",
     "status": "completed"
    },
    "tags": []
   },
   "outputs": [],
   "source": [
    "def wrangle(filepath):\n",
    "    df = pd.read_csv(filepath)\n",
    "    \n",
    "    #Reducing Cardinality\n",
    "    top_ten_cities=df[\"City\"].value_counts().head(10).index\n",
    "    df[\"City\"]=df[\"City\"].apply(lambda c: c if c in top_ten_cities else \"others\")\n",
    "    top_ten_states=df[\"State\"].value_counts().head(10).index\n",
    "    df[\"State\"]=df[\"State\"].apply(lambda c: c if c in top_ten_states else \"others\")\n",
    "    \n",
    "    ## Dealing with Outliers\n",
    "    q1,q2 =df[\"Profit\"].quantile([0.1,0.9])\n",
    "    df=df[df[\"Profit\"].between(q1,q2)]\n",
    "    \n",
    "    \n",
    "    return df"
   ]
  },
  {
   "cell_type": "code",
   "execution_count": 3,
   "id": "aa1ec514",
   "metadata": {
    "execution": {
     "iopub.execute_input": "2022-11-06T13:26:45.525579Z",
     "iopub.status.busy": "2022-11-06T13:26:45.524540Z",
     "iopub.status.idle": "2022-11-06T13:26:45.625572Z",
     "shell.execute_reply": "2022-11-06T13:26:45.624441Z"
    },
    "papermill": {
     "duration": 0.112821,
     "end_time": "2022-11-06T13:26:45.627805",
     "exception": false,
     "start_time": "2022-11-06T13:26:45.514984",
     "status": "completed"
    },
    "tags": []
   },
   "outputs": [
    {
     "data": {
      "text/html": [
       "<div>\n",
       "<style scoped>\n",
       "    .dataframe tbody tr th:only-of-type {\n",
       "        vertical-align: middle;\n",
       "    }\n",
       "\n",
       "    .dataframe tbody tr th {\n",
       "        vertical-align: top;\n",
       "    }\n",
       "\n",
       "    .dataframe thead th {\n",
       "        text-align: right;\n",
       "    }\n",
       "</style>\n",
       "<table border=\"1\" class=\"dataframe\">\n",
       "  <thead>\n",
       "    <tr style=\"text-align: right;\">\n",
       "      <th></th>\n",
       "      <th>Ship Mode</th>\n",
       "      <th>Segment</th>\n",
       "      <th>Country</th>\n",
       "      <th>City</th>\n",
       "      <th>State</th>\n",
       "      <th>Postal Code</th>\n",
       "      <th>Region</th>\n",
       "      <th>Category</th>\n",
       "      <th>Sub-Category</th>\n",
       "      <th>Sales</th>\n",
       "      <th>Quantity</th>\n",
       "      <th>Discount</th>\n",
       "      <th>Profit</th>\n",
       "    </tr>\n",
       "  </thead>\n",
       "  <tbody>\n",
       "    <tr>\n",
       "      <th>0</th>\n",
       "      <td>Second Class</td>\n",
       "      <td>Consumer</td>\n",
       "      <td>United States</td>\n",
       "      <td>others</td>\n",
       "      <td>others</td>\n",
       "      <td>42420</td>\n",
       "      <td>South</td>\n",
       "      <td>Furniture</td>\n",
       "      <td>Bookcases</td>\n",
       "      <td>261.960</td>\n",
       "      <td>2</td>\n",
       "      <td>0.0</td>\n",
       "      <td>41.9136</td>\n",
       "    </tr>\n",
       "    <tr>\n",
       "      <th>2</th>\n",
       "      <td>Second Class</td>\n",
       "      <td>Corporate</td>\n",
       "      <td>United States</td>\n",
       "      <td>Los Angeles</td>\n",
       "      <td>California</td>\n",
       "      <td>90036</td>\n",
       "      <td>West</td>\n",
       "      <td>Office Supplies</td>\n",
       "      <td>Labels</td>\n",
       "      <td>14.620</td>\n",
       "      <td>2</td>\n",
       "      <td>0.0</td>\n",
       "      <td>6.8714</td>\n",
       "    </tr>\n",
       "    <tr>\n",
       "      <th>4</th>\n",
       "      <td>Standard Class</td>\n",
       "      <td>Consumer</td>\n",
       "      <td>United States</td>\n",
       "      <td>others</td>\n",
       "      <td>Florida</td>\n",
       "      <td>33311</td>\n",
       "      <td>South</td>\n",
       "      <td>Office Supplies</td>\n",
       "      <td>Storage</td>\n",
       "      <td>22.368</td>\n",
       "      <td>2</td>\n",
       "      <td>0.2</td>\n",
       "      <td>2.5164</td>\n",
       "    </tr>\n",
       "    <tr>\n",
       "      <th>5</th>\n",
       "      <td>Standard Class</td>\n",
       "      <td>Consumer</td>\n",
       "      <td>United States</td>\n",
       "      <td>Los Angeles</td>\n",
       "      <td>California</td>\n",
       "      <td>90032</td>\n",
       "      <td>West</td>\n",
       "      <td>Furniture</td>\n",
       "      <td>Furnishings</td>\n",
       "      <td>48.860</td>\n",
       "      <td>7</td>\n",
       "      <td>0.0</td>\n",
       "      <td>14.1694</td>\n",
       "    </tr>\n",
       "    <tr>\n",
       "      <th>6</th>\n",
       "      <td>Standard Class</td>\n",
       "      <td>Consumer</td>\n",
       "      <td>United States</td>\n",
       "      <td>Los Angeles</td>\n",
       "      <td>California</td>\n",
       "      <td>90032</td>\n",
       "      <td>West</td>\n",
       "      <td>Office Supplies</td>\n",
       "      <td>Art</td>\n",
       "      <td>7.280</td>\n",
       "      <td>4</td>\n",
       "      <td>0.0</td>\n",
       "      <td>1.9656</td>\n",
       "    </tr>\n",
       "  </tbody>\n",
       "</table>\n",
       "</div>"
      ],
      "text/plain": [
       "        Ship Mode    Segment        Country         City       State  \\\n",
       "0    Second Class   Consumer  United States       others      others   \n",
       "2    Second Class  Corporate  United States  Los Angeles  California   \n",
       "4  Standard Class   Consumer  United States       others     Florida   \n",
       "5  Standard Class   Consumer  United States  Los Angeles  California   \n",
       "6  Standard Class   Consumer  United States  Los Angeles  California   \n",
       "\n",
       "   Postal Code Region         Category Sub-Category    Sales  Quantity  \\\n",
       "0        42420  South        Furniture    Bookcases  261.960         2   \n",
       "2        90036   West  Office Supplies       Labels   14.620         2   \n",
       "4        33311  South  Office Supplies      Storage   22.368         2   \n",
       "5        90032   West        Furniture  Furnishings   48.860         7   \n",
       "6        90032   West  Office Supplies          Art    7.280         4   \n",
       "\n",
       "   Discount   Profit  \n",
       "0       0.0  41.9136  \n",
       "2       0.0   6.8714  \n",
       "4       0.2   2.5164  \n",
       "5       0.0  14.1694  \n",
       "6       0.0   1.9656  "
      ]
     },
     "execution_count": 3,
     "metadata": {},
     "output_type": "execute_result"
    }
   ],
   "source": [
    "df=wrangle(\"SampleSuperstore.csv\")\n",
    "df.head()"
   ]
  },
  {
   "cell_type": "markdown",
   "id": "9216fb18",
   "metadata": {
    "papermill": {
     "duration": 0.00689,
     "end_time": "2022-11-06T13:26:45.641942",
     "exception": false,
     "start_time": "2022-11-06T13:26:45.635052",
     "status": "completed"
    },
    "tags": []
   },
   "source": [
    "## Exploratory Data Analysis"
   ]
  },
  {
   "cell_type": "code",
   "execution_count": 4,
   "id": "97603cc3",
   "metadata": {
    "execution": {
     "iopub.execute_input": "2022-11-06T13:26:45.657790Z",
     "iopub.status.busy": "2022-11-06T13:26:45.657389Z",
     "iopub.status.idle": "2022-11-06T13:26:45.677669Z",
     "shell.execute_reply": "2022-11-06T13:26:45.676253Z"
    },
    "papermill": {
     "duration": 0.031307,
     "end_time": "2022-11-06T13:26:45.680175",
     "exception": false,
     "start_time": "2022-11-06T13:26:45.648868",
     "status": "completed"
    },
    "tags": []
   },
   "outputs": [
    {
     "name": "stdout",
     "output_type": "stream",
     "text": [
      "(7994, 13)\n",
      "<class 'pandas.core.frame.DataFrame'>\n",
      "Int64Index: 7994 entries, 0 to 9993\n",
      "Data columns (total 13 columns):\n",
      " #   Column        Non-Null Count  Dtype  \n",
      "---  ------        --------------  -----  \n",
      " 0   Ship Mode     7994 non-null   object \n",
      " 1   Segment       7994 non-null   object \n",
      " 2   Country       7994 non-null   object \n",
      " 3   City          7994 non-null   object \n",
      " 4   State         7994 non-null   object \n",
      " 5   Postal Code   7994 non-null   int64  \n",
      " 6   Region        7994 non-null   object \n",
      " 7   Category      7994 non-null   object \n",
      " 8   Sub-Category  7994 non-null   object \n",
      " 9   Sales         7994 non-null   float64\n",
      " 10  Quantity      7994 non-null   int64  \n",
      " 11  Discount      7994 non-null   float64\n",
      " 12  Profit        7994 non-null   float64\n",
      "dtypes: float64(3), int64(2), object(8)\n",
      "memory usage: 874.3+ KB\n"
     ]
    }
   ],
   "source": [
    "print(df.shape)\n",
    "df.info()"
   ]
  },
  {
   "cell_type": "markdown",
   "id": "a09f6535",
   "metadata": {},
   "source": [
    "### checking for missing values\n"
   ]
  },
  {
   "cell_type": "code",
   "execution_count": 5,
   "id": "8f26b2ff",
   "metadata": {
    "execution": {
     "iopub.execute_input": "2022-11-06T13:26:45.697045Z",
     "iopub.status.busy": "2022-11-06T13:26:45.696619Z",
     "iopub.status.idle": "2022-11-06T13:26:45.709764Z",
     "shell.execute_reply": "2022-11-06T13:26:45.708662Z"
    },
    "papermill": {
     "duration": 0.024427,
     "end_time": "2022-11-06T13:26:45.712202",
     "exception": false,
     "start_time": "2022-11-06T13:26:45.687775",
     "status": "completed"
    },
    "tags": []
   },
   "outputs": [
    {
     "data": {
      "text/plain": [
       "Ship Mode       0\n",
       "Segment         0\n",
       "Country         0\n",
       "City            0\n",
       "State           0\n",
       "Postal Code     0\n",
       "Region          0\n",
       "Category        0\n",
       "Sub-Category    0\n",
       "Sales           0\n",
       "Quantity        0\n",
       "Discount        0\n",
       "Profit          0\n",
       "dtype: int64"
      ]
     },
     "execution_count": 5,
     "metadata": {},
     "output_type": "execute_result"
    }
   ],
   "source": [
    "### checking for missing values\n",
    "df.isnull().sum()"
   ]
  },
  {
   "cell_type": "markdown",
   "id": "16b68242",
   "metadata": {},
   "source": [
    "### checking for high cardinality categorical data\n"
   ]
  },
  {
   "cell_type": "code",
   "execution_count": 6,
   "id": "67ddcdd6",
   "metadata": {
    "execution": {
     "iopub.execute_input": "2022-11-06T13:26:45.729785Z",
     "iopub.status.busy": "2022-11-06T13:26:45.728987Z",
     "iopub.status.idle": "2022-11-06T13:26:45.746496Z",
     "shell.execute_reply": "2022-11-06T13:26:45.745268Z"
    },
    "papermill": {
     "duration": 0.028631,
     "end_time": "2022-11-06T13:26:45.748867",
     "exception": false,
     "start_time": "2022-11-06T13:26:45.720236",
     "status": "completed"
    },
    "tags": []
   },
   "outputs": [
    {
     "data": {
      "text/plain": [
       "Ship Mode        4\n",
       "Segment          3\n",
       "Country          1\n",
       "City            11\n",
       "State           11\n",
       "Region           4\n",
       "Category         3\n",
       "Sub-Category    17\n",
       "dtype: int64"
      ]
     },
     "execution_count": 6,
     "metadata": {},
     "output_type": "execute_result"
    }
   ],
   "source": [
    "### checking for high cardinality categorical data\n",
    "df.select_dtypes(\"object\").nunique()"
   ]
  },
  {
   "cell_type": "markdown",
   "id": "07ad0046",
   "metadata": {},
   "source": [
    "### Checking for Multicollinearity\n"
   ]
  },
  {
   "cell_type": "code",
   "execution_count": 7,
   "id": "9ffa9e84",
   "metadata": {
    "execution": {
     "iopub.execute_input": "2022-11-06T13:26:45.766545Z",
     "iopub.status.busy": "2022-11-06T13:26:45.765523Z",
     "iopub.status.idle": "2022-11-06T13:26:46.078864Z",
     "shell.execute_reply": "2022-11-06T13:26:46.077796Z"
    },
    "papermill": {
     "duration": 0.324584,
     "end_time": "2022-11-06T13:26:46.081132",
     "exception": false,
     "start_time": "2022-11-06T13:26:45.756548",
     "status": "completed"
    },
    "tags": []
   },
   "outputs": [
    {
     "data": {
      "image/png": "[encoded data removed]",
      "text/plain": [
       "<Figure size 432x288 with 2 Axes>"
      ]
     },
     "metadata": {
      "needs_background": "light"
     },
     "output_type": "display_data"
    }
   ],
   "source": [
    "### Checking for Multicollinearity\n",
    "corr_matrix=df.select_dtypes(\"number\").drop(\"Sales\",axis=1).corr()\n",
    "sns.heatmap(corr_matrix);"
   ]
  },
  {
   "cell_type": "markdown",
   "id": "b513b7f8",
   "metadata": {},
   "source": [
    "### Profit Distribution of Cities\n"
   ]
  },
  {
   "cell_type": "code",
   "execution_count": 8,
   "id": "1ea63031",
   "metadata": {
    "execution": {
     "iopub.execute_input": "2022-11-06T13:26:46.098508Z",
     "iopub.status.busy": "2022-11-06T13:26:46.098091Z",
     "iopub.status.idle": "2022-11-06T13:26:46.758704Z",
     "shell.execute_reply": "2022-11-06T13:26:46.757720Z"
    },
    "papermill": {
     "duration": 0.672185,
     "end_time": "2022-11-06T13:26:46.761261",
     "exception": false,
     "start_time": "2022-11-06T13:26:46.089076",
     "status": "completed"
    },
    "tags": []
   },
   "outputs": [
    {
     "data": {
      "image/png": "[encoded data removed]",
      "text/plain": [
       "<Figure size 936x482.4 with 1 Axes>"
      ]
     },
     "metadata": {
      "needs_background": "light"
     },
     "output_type": "display_data"
    }
   ],
   "source": [
    "### Profit Distribution of Cities\n",
    "dims = (13,6.7)\n",
    "fig, ax=plt.subplots(figsize=dims)\n",
    "sns.barplot(x=df[\"City\"],\n",
    "           y=df[\"Profit\"],\n",
    "           ax=ax)\n",
    "plt.ylabel(\"Profits\")\n",
    "plt.xlabel(\"Cities\")\n",
    "plt.title(\"Cities and Profit Distribution\")"
   ]
  },
  {
   "cell_type": "markdown",
   "id": "b20ec0d7",
   "metadata": {},
   "source": [
    "### Checking for outliers\n"
   ]
  },
  {
   "cell_type": "code",
   "execution_count": 9,
   "id": "5bbb8717",
   "metadata": {
    "execution": {
     "iopub.execute_input": "2022-11-06T13:26:46.779667Z",
     "iopub.status.busy": "2022-11-06T13:26:46.779252Z",
     "iopub.status.idle": "2022-11-06T13:26:47.102218Z",
     "shell.execute_reply": "2022-11-06T13:26:47.101026Z"
    },
    "papermill": {
     "duration": 0.335049,
     "end_time": "2022-11-06T13:26:47.104779",
     "exception": false,
     "start_time": "2022-11-06T13:26:46.769730",
     "status": "completed"
    },
    "tags": []
   },
   "outputs": [
    {
     "name": "stderr",
     "output_type": "stream",
     "text": [
      "/opt/conda/lib/python3.7/site-packages/seaborn/distributions.py:2619: FutureWarning: `distplot` is a deprecated function and will be removed in a future version. Please adapt your code to use either `displot` (a figure-level function with similar flexibility) or `histplot` (an axes-level function for histograms).\n",
      "  warnings.warn(msg, FutureWarning)\n"
     ]
    },
    {
     "data": {
      "image/png": "[encoded data removed]",
      "text/plain": [
       "<Figure size 432x288 with 1 Axes>"
      ]
     },
     "metadata": {
      "needs_background": "light"
     },
     "output_type": "display_data"
    }
   ],
   "source": [
    "### Checking for outliers\n",
    "sns.distplot(df[\"Profit\"])"
   ]
  },
  {
   "cell_type": "code",
   "execution_count": 10,
   "id": "b3a733cd",
   "metadata": {
    "execution": {
     "iopub.execute_input": "2022-11-06T13:26:47.124763Z",
     "iopub.status.busy": "2022-11-06T13:26:47.123853Z",
     "iopub.status.idle": "2022-11-06T13:26:47.447757Z",
     "shell.execute_reply": "2022-11-06T13:26:47.446488Z"
    },
    "papermill": {
     "duration": 0.336517,
     "end_time": "2022-11-06T13:26:47.450190",
     "exception": false,
     "start_time": "2022-11-06T13:26:47.113673",
     "status": "completed"
    },
    "tags": []
   },
   "outputs": [
    {
     "name": "stderr",
     "output_type": "stream",
     "text": [
      "/opt/conda/lib/python3.7/site-packages/seaborn/distributions.py:2619: FutureWarning: `distplot` is a deprecated function and will be removed in a future version. Please adapt your code to use either `displot` (a figure-level function with similar flexibility) or `histplot` (an axes-level function for histograms).\n",
      "  warnings.warn(msg, FutureWarning)\n"
     ]
    },
    {
     "data": {
      "text/plain": [
       "<AxesSubplot:xlabel='Quantity', ylabel='Density'>"
      ]
     },
     "execution_count": 10,
     "metadata": {},
     "output_type": "execute_result"
    },
    {
     "data": {
      "image/png": "[encoded data removed]",
      "text/plain": [
       "<Figure size 432x288 with 1 Axes>"
      ]
     },
     "metadata": {
      "needs_background": "light"
     },
     "output_type": "display_data"
    }
   ],
   "source": [
    "#Checking for outliers\n",
    "sns.distplot(df[\"Quantity\"])"
   ]
  },
  {
   "cell_type": "markdown",
   "id": "d709324e",
   "metadata": {},
   "source": [
    "### Sales distribution of Segment\n"
   ]
  },
  {
   "cell_type": "code",
   "execution_count": 11,
   "id": "43b54e64",
   "metadata": {
    "execution": {
     "iopub.execute_input": "2022-11-06T13:26:47.470866Z",
     "iopub.status.busy": "2022-11-06T13:26:47.470453Z",
     "iopub.status.idle": "2022-11-06T13:26:47.852368Z",
     "shell.execute_reply": "2022-11-06T13:26:47.851545Z"
    },
    "papermill": {
     "duration": 0.394652,
     "end_time": "2022-11-06T13:26:47.854621",
     "exception": false,
     "start_time": "2022-11-06T13:26:47.459969",
     "status": "completed"
    },
    "tags": []
   },
   "outputs": [
    {
     "data": {
      "image/png": "[encoded data removed]",
      "text/plain": [
       "<Figure size 936x482.4 with 1 Axes>"
      ]
     },
     "metadata": {
      "needs_background": "light"
     },
     "output_type": "display_data"
    }
   ],
   "source": [
    "### Sales distribution of Segment\n",
    "ims = (13,6.7)\n",
    "fig, ax=plt.subplots(figsize=dims)\n",
    "sns.barplot(x=df[\"Segment\"],\n",
    "           y=df[\"Sales\"],\n",
    "           ax=ax)\n",
    "plt.ylabel(\"Sales\")\n",
    "plt.xlabel(\"Segment\")\n",
    "plt.title(\"Segment and Profit Distribution\");"
   ]
  },
  {
   "cell_type": "markdown",
   "id": "a939dd9e",
   "metadata": {
    "papermill": {
     "duration": 0.009327,
     "end_time": "2022-11-06T13:26:47.873661",
     "exception": false,
     "start_time": "2022-11-06T13:26:47.864334",
     "status": "completed"
    },
    "tags": []
   },
   "source": [
    "## Splitting"
   ]
  },
  {
   "cell_type": "code",
   "execution_count": 12,
   "id": "e3c50e30",
   "metadata": {
    "execution": {
     "iopub.execute_input": "2022-11-06T13:26:47.894476Z",
     "iopub.status.busy": "2022-11-06T13:26:47.893669Z",
     "iopub.status.idle": "2022-11-06T13:26:47.902377Z",
     "shell.execute_reply": "2022-11-06T13:26:47.900741Z"
    },
    "papermill": {
     "duration": 0.022673,
     "end_time": "2022-11-06T13:26:47.905746",
     "exception": false,
     "start_time": "2022-11-06T13:26:47.883073",
     "status": "completed"
    },
    "tags": []
   },
   "outputs": [
    {
     "name": "stdout",
     "output_type": "stream",
     "text": [
      "(7994, 12)\n",
      "(7994,)\n"
     ]
    }
   ],
   "source": [
    "target=\"Sales\"\n",
    "X=df.drop(target,axis=1)\n",
    "y=df[target]\n",
    "print(X.shape)\n",
    "print(y.shape)"
   ]
  },
  {
   "cell_type": "code",
   "execution_count": 13,
   "id": "ff8e260b",
   "metadata": {
    "execution": {
     "iopub.execute_input": "2022-11-06T13:26:47.928266Z",
     "iopub.status.busy": "2022-11-06T13:26:47.927306Z",
     "iopub.status.idle": "2022-11-06T13:26:47.936740Z",
     "shell.execute_reply": "2022-11-06T13:26:47.935779Z"
    },
    "papermill": {
     "duration": 0.023177,
     "end_time": "2022-11-06T13:26:47.939092",
     "exception": false,
     "start_time": "2022-11-06T13:26:47.915915",
     "status": "completed"
    },
    "tags": []
   },
   "outputs": [],
   "source": [
    "X_train, X_test, y_train, y_test=train_test_split(X, y, test_size=0.2, random_state=42)"
   ]
  },
  {
   "cell_type": "markdown",
   "id": "a8a18d4c",
   "metadata": {
    "papermill": {
     "duration": 0.009069,
     "end_time": "2022-11-06T13:26:47.957759",
     "exception": false,
     "start_time": "2022-11-06T13:26:47.948690",
     "status": "completed"
    },
    "tags": []
   },
   "source": [
    "## Modeling"
   ]
  },
  {
   "cell_type": "code",
   "execution_count": 14,
   "id": "9af84df8",
   "metadata": {
    "execution": {
     "iopub.execute_input": "2022-11-06T13:26:47.979069Z",
     "iopub.status.busy": "2022-11-06T13:26:47.978379Z",
     "iopub.status.idle": "2022-11-06T13:26:47.986769Z",
     "shell.execute_reply": "2022-11-06T13:26:47.985184Z"
    },
    "papermill": {
     "duration": 0.021813,
     "end_time": "2022-11-06T13:26:47.989255",
     "exception": false,
     "start_time": "2022-11-06T13:26:47.967442",
     "status": "completed"
    },
    "tags": []
   },
   "outputs": [
    {
     "name": "stdout",
     "output_type": "stream",
     "text": [
      "99.21\n"
     ]
    }
   ],
   "source": [
    "##  baseline mean absolute error\n",
    "y_mean=y.mean()\n",
    "y_mean_pred=[y_mean] * len(y_train)\n",
    "baseline_mae=mean_absolute_error(y_train,y_mean_pred)\n",
    "print(round(baseline_mae,2))"
   ]
  },
  {
   "cell_type": "markdown",
   "id": "c76e3871",
   "metadata": {
    "papermill": {
     "duration": 0.009206,
     "end_time": "2022-11-06T13:26:48.008909",
     "exception": false,
     "start_time": "2022-11-06T13:26:47.999703",
     "status": "completed"
    },
    "tags": []
   },
   "source": [
    "## Iteration"
   ]
  },
  {
   "cell_type": "code",
   "execution_count": 15,
   "id": "5682ed74",
   "metadata": {
    "execution": {
     "iopub.execute_input": "2022-11-06T13:26:48.031016Z",
     "iopub.status.busy": "2022-11-06T13:26:48.030341Z",
     "iopub.status.idle": "2022-11-06T13:26:48.253534Z",
     "shell.execute_reply": "2022-11-06T13:26:48.252048Z"
    },
    "papermill": {
     "duration": 0.23872,
     "end_time": "2022-11-06T13:26:48.257482",
     "exception": false,
     "start_time": "2022-11-06T13:26:48.018762",
     "status": "completed"
    },
    "tags": []
   },
   "outputs": [
    {
     "data": {
      "text/plain": [
       "Pipeline(steps=[('onehotencoder',\n",
       "                 OneHotEncoder(cols=['Ship Mode', 'Segment', 'Country', 'City',\n",
       "                                     'State', 'Region', 'Category',\n",
       "                                     'Sub-Category'],\n",
       "                               use_cat_names=True)),\n",
       "                ('ridge', Ridge())])"
      ]
     },
     "execution_count": 15,
     "metadata": {},
     "output_type": "execute_result"
    }
   ],
   "source": [
    "model = make_pipeline(OneHotEncoder(use_cat_names=True),\n",
    "                     Ridge())\n",
    "model.fit(X_train, y_train)\n"
   ]
  },
  {
   "cell_type": "code",
   "execution_count": 16,
   "id": "d9374085",
   "metadata": {
    "execution": {
     "iopub.execute_input": "2022-11-06T13:26:48.309783Z",
     "iopub.status.busy": "2022-11-06T13:26:48.307998Z",
     "iopub.status.idle": "2022-11-06T13:26:48.393014Z",
     "shell.execute_reply": "2022-11-06T13:26:48.391437Z"
    },
    "papermill": {
     "duration": 0.116207,
     "end_time": "2022-11-06T13:26:48.398185",
     "exception": false,
     "start_time": "2022-11-06T13:26:48.281978",
     "status": "completed"
    },
    "tags": []
   },
   "outputs": [],
   "source": [
    "# Making Prediction with the training data\n",
    "y_train_pred = model.predict(X_train)"
   ]
  },
  {
   "cell_type": "code",
   "execution_count": 17,
   "id": "0ba8ec29",
   "metadata": {
    "execution": {
     "iopub.execute_input": "2022-11-06T13:26:48.450584Z",
     "iopub.status.busy": "2022-11-06T13:26:48.449875Z",
     "iopub.status.idle": "2022-11-06T13:26:48.467565Z",
     "shell.execute_reply": "2022-11-06T13:26:48.465624Z"
    },
    "papermill": {
     "duration": 0.049653,
     "end_time": "2022-11-06T13:26:48.472647",
     "exception": false,
     "start_time": "2022-11-06T13:26:48.422994",
     "status": "completed"
    },
    "tags": []
   },
   "outputs": [
    {
     "name": "stdout",
     "output_type": "stream",
     "text": [
      "59.36\n"
     ]
    }
   ],
   "source": [
    "#Evaluating the model \n",
    "mae_train=mean_absolute_error(y_train, y_train_pred)\n",
    "print(round(mae_train,2))"
   ]
  },
  {
   "cell_type": "markdown",
   "id": "ec3b3293",
   "metadata": {
    "papermill": {
     "duration": 0.017457,
     "end_time": "2022-11-06T13:26:48.514372",
     "exception": false,
     "start_time": "2022-11-06T13:26:48.496915",
     "status": "completed"
    },
    "tags": []
   },
   "source": [
    "## Evaluation"
   ]
  },
  {
   "cell_type": "code",
   "execution_count": 18,
   "id": "acd4a9dd",
   "metadata": {
    "execution": {
     "iopub.execute_input": "2022-11-06T13:26:48.535232Z",
     "iopub.status.busy": "2022-11-06T13:26:48.534797Z",
     "iopub.status.idle": "2022-11-06T13:26:48.574333Z",
     "shell.execute_reply": "2022-11-06T13:26:48.572591Z"
    },
    "papermill": {
     "duration": 0.054677,
     "end_time": "2022-11-06T13:26:48.578627",
     "exception": false,
     "start_time": "2022-11-06T13:26:48.523950",
     "status": "completed"
    },
    "tags": []
   },
   "outputs": [],
   "source": [
    "y_test_pred = model.predict(X_test)"
   ]
  },
  {
   "cell_type": "code",
   "execution_count": 19,
   "id": "36837263",
   "metadata": {
    "execution": {
     "iopub.execute_input": "2022-11-06T13:26:48.629521Z",
     "iopub.status.busy": "2022-11-06T13:26:48.628715Z",
     "iopub.status.idle": "2022-11-06T13:26:48.638414Z",
     "shell.execute_reply": "2022-11-06T13:26:48.637262Z"
    },
    "papermill": {
     "duration": 0.040458,
     "end_time": "2022-11-06T13:26:48.643312",
     "exception": false,
     "start_time": "2022-11-06T13:26:48.602854",
     "status": "completed"
    },
    "tags": []
   },
   "outputs": [
    {
     "name": "stdout",
     "output_type": "stream",
     "text": [
      "63.37\n"
     ]
    }
   ],
   "source": [
    "mae_test = mean_absolute_error(y_test, y_test_pred)\n",
    "print(round(mae_test,2))"
   ]
  },
  {
   "cell_type": "markdown",
   "id": "b7ca3d58",
   "metadata": {
    "papermill": {
     "duration": 0.023414,
     "end_time": "2022-11-06T13:26:48.691410",
     "exception": false,
     "start_time": "2022-11-06T13:26:48.667996",
     "status": "completed"
    },
    "tags": []
   },
   "source": [
    "## Communication"
   ]
  },
  {
   "cell_type": "code",
   "execution_count": 20,
   "id": "7321054c",
   "metadata": {
    "execution": {
     "iopub.execute_input": "2022-11-06T13:26:48.713278Z",
     "iopub.status.busy": "2022-11-06T13:26:48.712553Z",
     "iopub.status.idle": "2022-11-06T13:26:48.718177Z",
     "shell.execute_reply": "2022-11-06T13:26:48.716951Z"
    },
    "papermill": {
     "duration": 0.018901,
     "end_time": "2022-11-06T13:26:48.720501",
     "exception": false,
     "start_time": "2022-11-06T13:26:48.701600",
     "status": "completed"
    },
    "tags": []
   },
   "outputs": [],
   "source": [
    "features = model.named_steps[\"onehotencoder\"].get_feature_names()\n",
    "importance = model.named_steps[\"ridge\"].coef_"
   ]
  },
  {
   "cell_type": "code",
   "execution_count": 21,
   "id": "93883a0a",
   "metadata": {
    "execution": {
     "iopub.execute_input": "2022-11-06T13:26:48.742772Z",
     "iopub.status.busy": "2022-11-06T13:26:48.741351Z",
     "iopub.status.idle": "2022-11-06T13:26:48.747960Z",
     "shell.execute_reply": "2022-11-06T13:26:48.747187Z"
    },
    "papermill": {
     "duration": 0.019644,
     "end_time": "2022-11-06T13:26:48.750227",
     "exception": false,
     "start_time": "2022-11-06T13:26:48.730583",
     "status": "completed"
    },
    "tags": []
   },
   "outputs": [],
   "source": [
    "feat_imf = pd.Series(importance, index=features).sort_values()"
   ]
  },
  {
   "cell_type": "code",
   "execution_count": 22,
   "id": "abf1a1ab",
   "metadata": {
    "execution": {
     "iopub.execute_input": "2022-11-06T13:26:48.772056Z",
     "iopub.status.busy": "2022-11-06T13:26:48.771067Z",
     "iopub.status.idle": "2022-11-06T13:26:49.046686Z",
     "shell.execute_reply": "2022-11-06T13:26:49.045527Z"
    },
    "papermill": {
     "duration": 0.289098,
     "end_time": "2022-11-06T13:26:49.049215",
     "exception": false,
     "start_time": "2022-11-06T13:26:48.760117",
     "status": "completed"
    },
    "tags": []
   },
   "outputs": [
    {
     "data": {
      "image/png": "[encoded data removed]",
      "text/plain": [
       "<Figure size 432x288 with 1 Axes>"
      ]
     },
     "metadata": {
      "needs_background": "light"
     },
     "output_type": "display_data"
    }
   ],
   "source": [
    "feat_imf.tail(10).plot(kind=\"barh\")\n",
    "plt.ylabel(\"Features\")\n",
    "plt.xlabel(\"Importance\")\n",
    "plt.title(\"Feature Importances\")"
   ]
  }
 ],
 "metadata": {
  "kernelspec": {
   "display_name": "Python 3.9.7 ('myPyEnv')",
   "language": "python",
   "name": "python3"
  },
  "language_info": {
   "codemirror_mode": {
    "name": "ipython",
    "version": 3
   },
   "file_extension": ".py",
   "mimetype": "text/x-python",
   "name": "python",
   "nbconvert_exporter": "python",
   "pygments_lexer": "ipython3",
   "version": "3.9.7"
  },
  "papermill": {
   "default_parameters": {},
   "duration": 14.195714,
   "end_time": "2022-11-06T13:26:49.800825",
   "environment_variables": {},
   "exception": null,
   "input_path": "__notebook__.ipynb",
   "output_path": "__notebook__.ipynb",
   "parameters": {},
   "start_time": "2022-11-06T13:26:35.605111",
   "version": "2.3.4"
  },
  "vscode": {
   "interpreter": {
    "hash": "859f774c32d96e775f8fda7da0a81809e027844fd44f50434fca81750d392f9f"
   }
  }
 },
 "nbformat": 4,
 "nbformat_minor": 5
}
